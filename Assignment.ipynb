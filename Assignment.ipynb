{
 "cells": [
  {
   "cell_type": "markdown",
   "metadata": {},
   "source": [
    "TASK1"
   ]
  },
  {
   "cell_type": "code",
   "execution_count": 4,
   "metadata": {},
   "outputs": [
    {
     "name": "stdout",
     "output_type": "stream",
     "text": [
      "Data for 250 countries has been written to countries_data.csv.\n"
     ]
    }
   ],
   "source": [
    "import requests\n",
    "from bs4 import BeautifulSoup\n",
    "import csv\n",
    "\n",
    "# URL of the page to scrape\n",
    "url = 'https://www.scrapethissite.com/pages/simple/'\n",
    "\n",
    "# Send a GET request to the URL\n",
    "response = requests.get(url)\n",
    "\n",
    "# Parse the HTML content\n",
    "soup = BeautifulSoup(response.text, 'html.parser')\n",
    "\n",
    "# Find all country entries\n",
    "countries = soup.find_all('div', class_='country')\n",
    "\n",
    "# Prepare data for CSV\n",
    "country_data = []\n",
    "\n",
    "for country in countries:\n",
    "    name = country.find('h3').text.strip()\n",
    "    \n",
    "    # Using try-except to handle potential NoneType issues\n",
    "    try:\n",
    "        capital = country.find('p', class_='capital').text.split(': ')[1].strip()\n",
    "    except (AttributeError, IndexError):\n",
    "        capital = 'N/A'  # Default value if not found\n",
    "\n",
    "    try:\n",
    "        population = country.find('p', class_='population').text.split(': ')[1].strip()\n",
    "    except (AttributeError, IndexError):\n",
    "        population = 'N/A'  # Default value if not found\n",
    "\n",
    "    try:\n",
    "        area = country.find('p', class_='area').text.split(': ')[1].strip()\n",
    "    except (AttributeError, IndexError):\n",
    "        area = 'N/A'  # Default value if not found\n",
    "\n",
    "    # Append the data to the list\n",
    "    country_data.append([name, capital, population, area])\n",
    "\n",
    "# Define CSV file name\n",
    "csv_file = 'countries_data.csv'\n",
    "\n",
    "# Write data to CSV file\n",
    "with open(csv_file, mode='w', newline='', encoding='utf-8') as file:\n",
    "    writer = csv.writer(file)\n",
    "    # Write the header\n",
    "    writer.writerow(['Country', 'Capital', 'Population', 'Area (km²)'])\n",
    "    # Write the country data\n",
    "    writer.writerows(country_data)\n",
    "\n",
    "print(f\"Data for {len(country_data)} countries has been written to {csv_file}.\")"
   ]
  },
  {
   "cell_type": "markdown",
   "metadata": {},
   "source": [
    "TASK:2"
   ]
  },
  {
   "cell_type": "code",
   "execution_count": 7,
   "metadata": {},
   "outputs": [
    {
     "name": "stdout",
     "output_type": "stream",
     "text": [
      "Data has been successfully scraped and saved to 'hockey_teams_data.csv'.\n"
     ]
    }
   ],
   "source": [
    "import requests\n",
    "from bs4 import BeautifulSoup\n",
    "import csv\n",
    "\n",
    "# URL of the page to scrape\n",
    "url = \"https://www.scrapethissite.com/pages/forms/?page_num=1\"\n",
    "\n",
    "# Send a GET request to the URL\n",
    "response = requests.get(url)\n",
    "\n",
    "# Check if the request was successful\n",
    "if response.status_code == 200:\n",
    "    # Parse the HTML content\n",
    "    soup = BeautifulSoup(response.text, 'html.parser')\n",
    "\n",
    "    # Find the table containing the hockey team data\n",
    "    table = soup.find('table', class_='table')\n",
    "\n",
    "    # Open a CSV file to write the data\n",
    "    with open('hockey_teams_data.csv', mode='w', newline='', encoding='utf-8') as file:\n",
    "        writer = csv.writer(file)\n",
    "        # Write the header row\n",
    "        writer.writerow(['Team Name', 'Year', 'Wins', 'Losses', 'Win%', 'Goals For (GF)', 'Goals Against (GA)'])\n",
    "\n",
    "        # Check if the table is found\n",
    "        if table is not None:\n",
    "            # Iterate through each row in the table\n",
    "            for row in table.find_all('tr')[1:]:  # Skip the header row\n",
    "                columns = row.find_all('td')\n",
    "                if len(columns) >= 7:  # Ensure there are enough columns\n",
    "                    team_name = columns[0].text.strip()\n",
    "                    year = columns[1].text.strip()\n",
    "                    wins = columns[2].text.strip()\n",
    "                    losses = columns[3].text.strip()\n",
    "                    win_percentage = columns[4].text.strip()\n",
    "                    goals_for = columns[5].text.strip()\n",
    "                    goals_against = columns[6].text.strip()\n",
    "\n",
    "                    # Write the data to the CSV file\n",
    "                    writer.writerow([team_name, year, wins, losses, win_percentage, goals_for, goals_against])\n",
    "\n",
    "            print(\"Data has been successfully scraped and saved to 'hockey_teams_data.csv'.\")\n",
    "        else:\n",
    "            print(\"Table not found on the page.\")\n",
    "else:\n",
    "    print(f\"Failed to retrieve data from the page. Status code: {response.status_code}\")\n"
   ]
  }
 ],
 "metadata": {
  "kernelspec": {
   "display_name": "base",
   "language": "python",
   "name": "python3"
  },
  "language_info": {
   "codemirror_mode": {
    "name": "ipython",
    "version": 3
   },
   "file_extension": ".py",
   "mimetype": "text/x-python",
   "name": "python",
   "nbconvert_exporter": "python",
   "pygments_lexer": "ipython3",
   "version": "3.7.6"
  }
 },
 "nbformat": 4,
 "nbformat_minor": 2
}
